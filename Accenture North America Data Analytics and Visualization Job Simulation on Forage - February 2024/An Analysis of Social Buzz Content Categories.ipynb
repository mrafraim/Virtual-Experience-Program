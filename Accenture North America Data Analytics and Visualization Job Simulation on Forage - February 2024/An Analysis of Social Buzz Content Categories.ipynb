{
 "cells": [
  {
   "cell_type": "markdown",
   "id": "fc799b11-5019-4698-9239-f34aee3254ac",
   "metadata": {},
   "source": [
    "# <font color='green'> An Analysis of Social Buzz Content Categories </font>"
   ]
  },
  {
   "cell_type": "markdown",
   "id": "1c5e4586-7eee-4fe8-8b57-32388b36f4bc",
   "metadata": {},
   "source": [
    "## <div class='alert alert-info'>Data Importation and Cleaning</div>"
   ]
  },
  {
   "cell_type": "markdown",
   "id": "d269cf0d-a1ac-42c1-b6d9-eab4a3364d9f",
   "metadata": {},
   "source": [
    "### Import Necessary Libraries"
   ]
  },
  {
   "cell_type": "code",
   "execution_count": 1,
   "id": "a0a5ba68-8020-4dd5-ab78-faa06c4f5cd8",
   "metadata": {},
   "outputs": [
    {
     "name": "stdout",
     "output_type": "stream",
     "text": [
      "Libraries imported successfully!\n"
     ]
    }
   ],
   "source": [
    "# Pandas is a powerful library for data manipulation and analysis.\n",
    "import pandas as pd\n",
    "\n",
    "# NumPy provides support for numerical operations on our data.\n",
    "import numpy as np\n",
    "\n",
    "# Matplotlib and Seaborn are used for data visualization.\n",
    "import matplotlib.pyplot as plt\n",
    "import seaborn as sns\n",
    "\n",
    "# Pandas options can be customized to control data display.\n",
    "# Here, we set the maximum number of columns to display for better readability.\n",
    "pd.set_option('display.max_columns', None)\n",
    "\n",
    "# to turn off unnecessary warnings\n",
    "import warnings\n",
    "warnings.filterwarnings('ignore')\n",
    "\n",
    "# Next, we should check if the libraries were imported successfully.\n",
    "# If there are no errors, we can proceed with loading and analyzing the data.\n",
    "print(\"Libraries imported successfully!\")"
   ]
  },
  {
   "cell_type": "markdown",
   "id": "6025a3b0-580c-47c7-a937-cb5ac1a1e2c7",
   "metadata": {},
   "source": [
    "### Load and Clean the Datasets"
   ]
  },
  {
   "cell_type": "markdown",
   "id": "b804f0ad-1a67-4fd2-b084-4412a77642e8",
   "metadata": {},
   "source": [
    "### 1. Content Data"
   ]
  },
  {
   "cell_type": "code",
   "execution_count": 2,
   "id": "f4cb69ec-f051-4851-8354-6722b76d5869",
   "metadata": {},
   "outputs": [
    {
     "name": "stdout",
     "output_type": "stream",
     "text": [
      "Dataset loaded successfully!\n"
     ]
    }
   ],
   "source": [
    "# Define the file path to the dataset.\n",
    "content_path = 'Content (Cleaned).csv'  \n",
    "\n",
    "# Use Pandas to read the dataset into a DataFrame.\n",
    "try:\n",
    "    content_data = pd.read_csv(content_path)\n",
    "    print(\"Dataset loaded successfully!\")\n",
    "    \n",
    "except FileNotFoundError:\n",
    "    print(\"Error: Dataset file not found. Please check the file path.\")\n",
    "except Exception as e:\n",
    "    print(f\"An error occurred: {e}\")\n"
   ]
  },
  {
   "cell_type": "code",
   "execution_count": 3,
   "id": "f89e733d-1fcf-4aae-8f24-67474b2bfcee",
   "metadata": {},
   "outputs": [
    {
     "data": {
      "text/html": [
       "<div>\n",
       "<style scoped>\n",
       "    .dataframe tbody tr th:only-of-type {\n",
       "        vertical-align: middle;\n",
       "    }\n",
       "\n",
       "    .dataframe tbody tr th {\n",
       "        vertical-align: top;\n",
       "    }\n",
       "\n",
       "    .dataframe thead th {\n",
       "        text-align: right;\n",
       "    }\n",
       "</style>\n",
       "<table border=\"1\" class=\"dataframe\">\n",
       "  <thead>\n",
       "    <tr style=\"text-align: right;\">\n",
       "      <th></th>\n",
       "      <th>Content Id</th>\n",
       "      <th>Content Type</th>\n",
       "      <th>Category</th>\n",
       "    </tr>\n",
       "  </thead>\n",
       "  <tbody>\n",
       "    <tr>\n",
       "      <th>0</th>\n",
       "      <td>97522e57-d9ab-4bd6-97bf-c24d952602d2</td>\n",
       "      <td>Photo</td>\n",
       "      <td>Studying</td>\n",
       "    </tr>\n",
       "    <tr>\n",
       "      <th>1</th>\n",
       "      <td>9f737e0a-3cdd-4d29-9d24-753f4e3be810</td>\n",
       "      <td>Photo</td>\n",
       "      <td>Healthy Eating</td>\n",
       "    </tr>\n",
       "    <tr>\n",
       "      <th>2</th>\n",
       "      <td>230c4e4d-70c3-461d-b42c-ec09396efb3f</td>\n",
       "      <td>Photo</td>\n",
       "      <td>Healthy Eating</td>\n",
       "    </tr>\n",
       "    <tr>\n",
       "      <th>3</th>\n",
       "      <td>356fff80-da4d-4785-9f43-bc1261031dc6</td>\n",
       "      <td>Photo</td>\n",
       "      <td>Technology</td>\n",
       "    </tr>\n",
       "    <tr>\n",
       "      <th>4</th>\n",
       "      <td>01ab84dd-6364-4236-abbb-3f237db77180</td>\n",
       "      <td>Video</td>\n",
       "      <td>Food</td>\n",
       "    </tr>\n",
       "  </tbody>\n",
       "</table>\n",
       "</div>"
      ],
      "text/plain": [
       "                             Content Id Content Type        Category\n",
       "0  97522e57-d9ab-4bd6-97bf-c24d952602d2        Photo        Studying\n",
       "1  9f737e0a-3cdd-4d29-9d24-753f4e3be810        Photo  Healthy Eating\n",
       "2  230c4e4d-70c3-461d-b42c-ec09396efb3f        Photo  Healthy Eating\n",
       "3  356fff80-da4d-4785-9f43-bc1261031dc6        Photo      Technology\n",
       "4  01ab84dd-6364-4236-abbb-3f237db77180        Video            Food"
      ]
     },
     "execution_count": 3,
     "metadata": {},
     "output_type": "execute_result"
    }
   ],
   "source": [
    "content_data.head()"
   ]
  },
  {
   "cell_type": "code",
   "execution_count": 4,
   "id": "13a5d78b-1ac3-4dfe-bfc5-835a220008ed",
   "metadata": {},
   "outputs": [
    {
     "data": {
      "text/plain": [
       "(1000, 3)"
      ]
     },
     "execution_count": 4,
     "metadata": {},
     "output_type": "execute_result"
    }
   ],
   "source": [
    "content_data.shape"
   ]
  },
  {
   "cell_type": "code",
   "execution_count": 5,
   "id": "391e7e93-fd84-403f-bad7-e06edbd524b5",
   "metadata": {},
   "outputs": [
    {
     "data": {
      "text/plain": [
       "['Content Id', 'Content Type', 'Category']"
      ]
     },
     "execution_count": 5,
     "metadata": {},
     "output_type": "execute_result"
    }
   ],
   "source": [
    "content_data.columns.to_list()"
   ]
  },
  {
   "cell_type": "code",
   "execution_count": 6,
   "id": "5c899bf1-df14-417d-900c-fbdc585d71fa",
   "metadata": {},
   "outputs": [
    {
     "data": {
      "text/plain": [
       "Content Id      object\n",
       "Content Type    object\n",
       "Category        object\n",
       "dtype: object"
      ]
     },
     "execution_count": 6,
     "metadata": {},
     "output_type": "execute_result"
    }
   ],
   "source": [
    "content_data.dtypes"
   ]
  },
  {
   "cell_type": "code",
   "execution_count": 7,
   "id": "d544da50-71cb-4e6d-893c-09c971b0d321",
   "metadata": {},
   "outputs": [
    {
     "data": {
      "text/plain": [
       "0"
      ]
     },
     "execution_count": 7,
     "metadata": {},
     "output_type": "execute_result"
    }
   ],
   "source": [
    "# Identify and remove duplicates\n",
    "content_data.duplicated().sum()"
   ]
  },
  {
   "cell_type": "code",
   "execution_count": 8,
   "id": "ed3a1c75-e8f5-4579-a886-063f052076da",
   "metadata": {},
   "outputs": [
    {
     "data": {
      "text/plain": [
       "array(['Studying', 'Healthy Eating', 'Technology', 'Food', 'Cooking',\n",
       "       'Dogs', 'Soccer', 'Public Speaking', 'Science', 'Tennis', 'Travel',\n",
       "       'Fitness', 'Education', 'Veganism', 'Animals', 'Culture'],\n",
       "      dtype=object)"
      ]
     },
     "execution_count": 8,
     "metadata": {},
     "output_type": "execute_result"
    }
   ],
   "source": [
    "content_data['Category'].unique()"
   ]
  },
  {
   "cell_type": "code",
   "execution_count": 9,
   "id": "a1073a99-8597-439e-8edb-350a69bb2aa9",
   "metadata": {},
   "outputs": [
    {
     "data": {
      "text/plain": [
       "array(['Photo', 'Video', 'Gif', 'Audio'], dtype=object)"
      ]
     },
     "execution_count": 9,
     "metadata": {},
     "output_type": "execute_result"
    }
   ],
   "source": [
    "content_data['Content Type'].unique()"
   ]
  },
  {
   "cell_type": "code",
   "execution_count": 10,
   "id": "aabdc309-aa64-4209-bdfd-ff835b1a2e1b",
   "metadata": {},
   "outputs": [
    {
     "data": {
      "text/plain": [
       "Content Id      1000\n",
       "Content Type       4\n",
       "Category          16\n",
       "dtype: int64"
      ]
     },
     "execution_count": 10,
     "metadata": {},
     "output_type": "execute_result"
    }
   ],
   "source": [
    "content_data.nunique()"
   ]
  },
  {
   "cell_type": "code",
   "execution_count": 11,
   "id": "42fc6bc6-1e4a-4f67-9c56-b93a2bce671b",
   "metadata": {},
   "outputs": [
    {
     "data": {
      "text/plain": [
       "Content Id      0\n",
       "Content Type    0\n",
       "Category        0\n",
       "dtype: int64"
      ]
     },
     "execution_count": 11,
     "metadata": {},
     "output_type": "execute_result"
    }
   ],
   "source": [
    "#checking missing values\n",
    "missing_values = content_data.isnull().sum()\n",
    "missing_values"
   ]
  },
  {
   "cell_type": "markdown",
   "id": "ed39fce1-65a1-4023-8932-fae5607eac14",
   "metadata": {},
   "source": [
    "*No Missing Data are found*"
   ]
  },
  {
   "cell_type": "markdown",
   "id": "6ea0cb8a-34d7-40f2-828d-0610e5c15f7c",
   "metadata": {},
   "source": [
    "### 2. Reactions data"
   ]
  },
  {
   "cell_type": "code",
   "execution_count": 12,
   "id": "a2ba27a8-cfcd-4aa8-8652-1005f5c9dd30",
   "metadata": {},
   "outputs": [
    {
     "name": "stdout",
     "output_type": "stream",
     "text": [
      "Dataset loaded successfully!\n"
     ]
    }
   ],
   "source": [
    "# Define the file path to the dataset.\n",
    "reactions_path = 'Reactions (Cleaned).csv'  \n",
    "\n",
    "# Use Pandas to read the dataset into a DataFrame.\n",
    "try:\n",
    "    reactions_data = pd.read_csv(reactions_path)\n",
    "    print(\"Dataset loaded successfully!\")\n",
    "    \n",
    "except FileNotFoundError:\n",
    "    print(\"Error: Dataset file not found. Please check the file path.\")\n",
    "except Exception as e:\n",
    "    print(f\"An error occurred: {e}\")\n"
   ]
  },
  {
   "cell_type": "code",
   "execution_count": 13,
   "id": "6a387d45-aca6-4f1f-b7cb-a5f8db9e07b1",
   "metadata": {},
   "outputs": [
    {
     "data": {
      "text/html": [
       "<div>\n",
       "<style scoped>\n",
       "    .dataframe tbody tr th:only-of-type {\n",
       "        vertical-align: middle;\n",
       "    }\n",
       "\n",
       "    .dataframe tbody tr th {\n",
       "        vertical-align: top;\n",
       "    }\n",
       "\n",
       "    .dataframe thead th {\n",
       "        text-align: right;\n",
       "    }\n",
       "</style>\n",
       "<table border=\"1\" class=\"dataframe\">\n",
       "  <thead>\n",
       "    <tr style=\"text-align: right;\">\n",
       "      <th></th>\n",
       "      <th>Content Id</th>\n",
       "      <th>Reaction Type</th>\n",
       "      <th>Datetime</th>\n",
       "    </tr>\n",
       "  </thead>\n",
       "  <tbody>\n",
       "    <tr>\n",
       "      <th>0</th>\n",
       "      <td>97522e57-d9ab-4bd6-97bf-c24d952602d2</td>\n",
       "      <td>Disgust</td>\n",
       "      <td>11/7/2020 9:43</td>\n",
       "    </tr>\n",
       "    <tr>\n",
       "      <th>1</th>\n",
       "      <td>97522e57-d9ab-4bd6-97bf-c24d952602d2</td>\n",
       "      <td>Dislike</td>\n",
       "      <td>6/17/2021 12:22</td>\n",
       "    </tr>\n",
       "    <tr>\n",
       "      <th>2</th>\n",
       "      <td>97522e57-d9ab-4bd6-97bf-c24d952602d2</td>\n",
       "      <td>Scared</td>\n",
       "      <td>4/18/2021 5:13</td>\n",
       "    </tr>\n",
       "    <tr>\n",
       "      <th>3</th>\n",
       "      <td>97522e57-d9ab-4bd6-97bf-c24d952602d2</td>\n",
       "      <td>Disgust</td>\n",
       "      <td>1/6/2021 19:13</td>\n",
       "    </tr>\n",
       "    <tr>\n",
       "      <th>4</th>\n",
       "      <td>97522e57-d9ab-4bd6-97bf-c24d952602d2</td>\n",
       "      <td>Interested</td>\n",
       "      <td>8/23/2020 12:25</td>\n",
       "    </tr>\n",
       "  </tbody>\n",
       "</table>\n",
       "</div>"
      ],
      "text/plain": [
       "                             Content Id Reaction Type         Datetime\n",
       "0  97522e57-d9ab-4bd6-97bf-c24d952602d2       Disgust   11/7/2020 9:43\n",
       "1  97522e57-d9ab-4bd6-97bf-c24d952602d2       Dislike  6/17/2021 12:22\n",
       "2  97522e57-d9ab-4bd6-97bf-c24d952602d2        Scared   4/18/2021 5:13\n",
       "3  97522e57-d9ab-4bd6-97bf-c24d952602d2       Disgust   1/6/2021 19:13\n",
       "4  97522e57-d9ab-4bd6-97bf-c24d952602d2    Interested  8/23/2020 12:25"
      ]
     },
     "execution_count": 13,
     "metadata": {},
     "output_type": "execute_result"
    }
   ],
   "source": [
    "reactions_data.head()"
   ]
  },
  {
   "cell_type": "code",
   "execution_count": 14,
   "id": "83e97aff-c116-48af-9fc9-c36b790a78a1",
   "metadata": {},
   "outputs": [
    {
     "data": {
      "text/plain": [
       "['Content Id', 'Reaction Type', 'Datetime']"
      ]
     },
     "execution_count": 14,
     "metadata": {},
     "output_type": "execute_result"
    }
   ],
   "source": [
    "reactions_data.columns.to_list()"
   ]
  },
  {
   "cell_type": "code",
   "execution_count": 14,
   "id": "9070bf0f-63e2-450d-9ae7-d0286466997b",
   "metadata": {},
   "outputs": [
    {
     "data": {
      "text/plain": [
       "(24573, 3)"
      ]
     },
     "execution_count": 14,
     "metadata": {},
     "output_type": "execute_result"
    }
   ],
   "source": [
    "reactions_data.shape"
   ]
  },
  {
   "cell_type": "code",
   "execution_count": 15,
   "id": "ac856bb7-b810-4d4c-ae66-ef03f7093337",
   "metadata": {},
   "outputs": [
    {
     "data": {
      "text/plain": [
       "Content Id       0\n",
       "Reaction Type    0\n",
       "Datetime         0\n",
       "dtype: int64"
      ]
     },
     "execution_count": 15,
     "metadata": {},
     "output_type": "execute_result"
    }
   ],
   "source": [
    "reactions_data.isnull().sum()"
   ]
  },
  {
   "cell_type": "code",
   "execution_count": 17,
   "id": "06507a41-858c-4f30-bd50-d9802f7ca9df",
   "metadata": {},
   "outputs": [
    {
     "data": {
      "text/plain": [
       "Content Id       object\n",
       "Reaction Type    object\n",
       "Datetime         object\n",
       "dtype: object"
      ]
     },
     "execution_count": 17,
     "metadata": {},
     "output_type": "execute_result"
    }
   ],
   "source": [
    "reactions_data.dtypes"
   ]
  },
  {
   "cell_type": "code",
   "execution_count": 16,
   "id": "7b8431a5-1636-495e-85f7-913297444acd",
   "metadata": {},
   "outputs": [],
   "source": [
    "# Convert the datetime column to datetime datatype\n",
    "reactions_data['Datetime'] = pd.to_datetime(reactions_data['Datetime'])"
   ]
  },
  {
   "cell_type": "code",
   "execution_count": 19,
   "id": "894bb7b2-f4a2-4fba-80f5-113eeaf461ca",
   "metadata": {},
   "outputs": [
    {
     "data": {
      "text/plain": [
       "Content Id               object\n",
       "Reaction Type            object\n",
       "Datetime         datetime64[ns]\n",
       "dtype: object"
      ]
     },
     "execution_count": 19,
     "metadata": {},
     "output_type": "execute_result"
    }
   ],
   "source": [
    "reactions_data.dtypes"
   ]
  },
  {
   "cell_type": "code",
   "execution_count": 17,
   "id": "bc17b6d7-eba8-4066-8947-f933aee06f69",
   "metadata": {},
   "outputs": [],
   "source": [
    "reactions_data['Date'] = reactions_data['Datetime'].dt.date\n",
    "reactions_data['Time'] = reactions_data['Datetime'].dt.time\n"
   ]
  },
  {
   "cell_type": "code",
   "execution_count": 18,
   "id": "167c10a6-6542-456d-9fc7-54dec74c7b8e",
   "metadata": {},
   "outputs": [],
   "source": [
    "reactions_data.drop('Datetime', axis =1, inplace = True)"
   ]
  },
  {
   "cell_type": "code",
   "execution_count": 22,
   "id": "ca620b4f-3254-42eb-b0de-e2d64eeac8c0",
   "metadata": {},
   "outputs": [
    {
     "data": {
      "text/html": [
       "<div>\n",
       "<style scoped>\n",
       "    .dataframe tbody tr th:only-of-type {\n",
       "        vertical-align: middle;\n",
       "    }\n",
       "\n",
       "    .dataframe tbody tr th {\n",
       "        vertical-align: top;\n",
       "    }\n",
       "\n",
       "    .dataframe thead th {\n",
       "        text-align: right;\n",
       "    }\n",
       "</style>\n",
       "<table border=\"1\" class=\"dataframe\">\n",
       "  <thead>\n",
       "    <tr style=\"text-align: right;\">\n",
       "      <th></th>\n",
       "      <th>Content Id</th>\n",
       "      <th>Reaction Type</th>\n",
       "      <th>Date</th>\n",
       "      <th>Time</th>\n",
       "    </tr>\n",
       "  </thead>\n",
       "  <tbody>\n",
       "    <tr>\n",
       "      <th>0</th>\n",
       "      <td>97522e57-d9ab-4bd6-97bf-c24d952602d2</td>\n",
       "      <td>Disgust</td>\n",
       "      <td>2020-11-07</td>\n",
       "      <td>09:43:00</td>\n",
       "    </tr>\n",
       "    <tr>\n",
       "      <th>1</th>\n",
       "      <td>97522e57-d9ab-4bd6-97bf-c24d952602d2</td>\n",
       "      <td>Dislike</td>\n",
       "      <td>2021-06-17</td>\n",
       "      <td>12:22:00</td>\n",
       "    </tr>\n",
       "    <tr>\n",
       "      <th>2</th>\n",
       "      <td>97522e57-d9ab-4bd6-97bf-c24d952602d2</td>\n",
       "      <td>Scared</td>\n",
       "      <td>2021-04-18</td>\n",
       "      <td>05:13:00</td>\n",
       "    </tr>\n",
       "    <tr>\n",
       "      <th>3</th>\n",
       "      <td>97522e57-d9ab-4bd6-97bf-c24d952602d2</td>\n",
       "      <td>Disgust</td>\n",
       "      <td>2021-01-06</td>\n",
       "      <td>19:13:00</td>\n",
       "    </tr>\n",
       "    <tr>\n",
       "      <th>4</th>\n",
       "      <td>97522e57-d9ab-4bd6-97bf-c24d952602d2</td>\n",
       "      <td>Interested</td>\n",
       "      <td>2020-08-23</td>\n",
       "      <td>12:25:00</td>\n",
       "    </tr>\n",
       "  </tbody>\n",
       "</table>\n",
       "</div>"
      ],
      "text/plain": [
       "                             Content Id Reaction Type        Date      Time\n",
       "0  97522e57-d9ab-4bd6-97bf-c24d952602d2       Disgust  2020-11-07  09:43:00\n",
       "1  97522e57-d9ab-4bd6-97bf-c24d952602d2       Dislike  2021-06-17  12:22:00\n",
       "2  97522e57-d9ab-4bd6-97bf-c24d952602d2        Scared  2021-04-18  05:13:00\n",
       "3  97522e57-d9ab-4bd6-97bf-c24d952602d2       Disgust  2021-01-06  19:13:00\n",
       "4  97522e57-d9ab-4bd6-97bf-c24d952602d2    Interested  2020-08-23  12:25:00"
      ]
     },
     "execution_count": 22,
     "metadata": {},
     "output_type": "execute_result"
    }
   ],
   "source": [
    "reactions_data.head()"
   ]
  },
  {
   "cell_type": "code",
   "execution_count": 23,
   "id": "17e89f60-6be7-4ba4-8685-3f25221a87d1",
   "metadata": {},
   "outputs": [
    {
     "data": {
      "text/plain": [
       "Content Id       object\n",
       "Reaction Type    object\n",
       "Date             object\n",
       "Time             object\n",
       "dtype: object"
      ]
     },
     "execution_count": 23,
     "metadata": {},
     "output_type": "execute_result"
    }
   ],
   "source": [
    "reactions_data.dtypes"
   ]
  },
  {
   "cell_type": "code",
   "execution_count": 19,
   "id": "fbf7018b-05a7-4f3f-a1e9-9faf37386202",
   "metadata": {},
   "outputs": [],
   "source": [
    "# Convert 'date_column' to datetime.date datatype\n",
    "reactions_data['Date'] = pd.to_datetime(reactions_data['Date']).dt.date\n",
    "\n",
    "# Convert 'time_column' to datetime.time datatype\n",
    "reactions_data['Time'] = pd.to_datetime(reactions_data['Time'], format='%H:%M:%S').dt.time"
   ]
  },
  {
   "cell_type": "code",
   "execution_count": 25,
   "id": "1cb33533-f979-44d8-a457-1c8fa006bf43",
   "metadata": {},
   "outputs": [
    {
     "data": {
      "text/html": [
       "<div>\n",
       "<style scoped>\n",
       "    .dataframe tbody tr th:only-of-type {\n",
       "        vertical-align: middle;\n",
       "    }\n",
       "\n",
       "    .dataframe tbody tr th {\n",
       "        vertical-align: top;\n",
       "    }\n",
       "\n",
       "    .dataframe thead th {\n",
       "        text-align: right;\n",
       "    }\n",
       "</style>\n",
       "<table border=\"1\" class=\"dataframe\">\n",
       "  <thead>\n",
       "    <tr style=\"text-align: right;\">\n",
       "      <th></th>\n",
       "      <th>Content Id</th>\n",
       "      <th>Reaction Type</th>\n",
       "      <th>Date</th>\n",
       "      <th>Time</th>\n",
       "    </tr>\n",
       "  </thead>\n",
       "  <tbody>\n",
       "    <tr>\n",
       "      <th>24568</th>\n",
       "      <td>75d6b589-7fae-4a6d-b0d0-752845150e56</td>\n",
       "      <td>Dislike</td>\n",
       "      <td>2020-06-27</td>\n",
       "      <td>09:46:00</td>\n",
       "    </tr>\n",
       "    <tr>\n",
       "      <th>24569</th>\n",
       "      <td>75d6b589-7fae-4a6d-b0d0-752845150e56</td>\n",
       "      <td>Intrigued</td>\n",
       "      <td>2021-02-16</td>\n",
       "      <td>17:17:00</td>\n",
       "    </tr>\n",
       "    <tr>\n",
       "      <th>24570</th>\n",
       "      <td>75d6b589-7fae-4a6d-b0d0-752845150e56</td>\n",
       "      <td>Interested</td>\n",
       "      <td>2020-09-12</td>\n",
       "      <td>03:54:00</td>\n",
       "    </tr>\n",
       "    <tr>\n",
       "      <th>24571</th>\n",
       "      <td>75d6b589-7fae-4a6d-b0d0-752845150e56</td>\n",
       "      <td>Worried</td>\n",
       "      <td>2020-11-04</td>\n",
       "      <td>20:08:00</td>\n",
       "    </tr>\n",
       "    <tr>\n",
       "      <th>24572</th>\n",
       "      <td>75d6b589-7fae-4a6d-b0d0-752845150e56</td>\n",
       "      <td>Cherish</td>\n",
       "      <td>2021-01-04</td>\n",
       "      <td>04:55:00</td>\n",
       "    </tr>\n",
       "  </tbody>\n",
       "</table>\n",
       "</div>"
      ],
      "text/plain": [
       "                                 Content Id Reaction Type        Date  \\\n",
       "24568  75d6b589-7fae-4a6d-b0d0-752845150e56       Dislike  2020-06-27   \n",
       "24569  75d6b589-7fae-4a6d-b0d0-752845150e56     Intrigued  2021-02-16   \n",
       "24570  75d6b589-7fae-4a6d-b0d0-752845150e56    Interested  2020-09-12   \n",
       "24571  75d6b589-7fae-4a6d-b0d0-752845150e56       Worried  2020-11-04   \n",
       "24572  75d6b589-7fae-4a6d-b0d0-752845150e56       Cherish  2021-01-04   \n",
       "\n",
       "           Time  \n",
       "24568  09:46:00  \n",
       "24569  17:17:00  \n",
       "24570  03:54:00  \n",
       "24571  20:08:00  \n",
       "24572  04:55:00  "
      ]
     },
     "execution_count": 25,
     "metadata": {},
     "output_type": "execute_result"
    }
   ],
   "source": [
    "reactions_data.tail()"
   ]
  },
  {
   "cell_type": "code",
   "execution_count": 20,
   "id": "81721ac9-d664-43c9-ba13-0b2c65cc9742",
   "metadata": {},
   "outputs": [
    {
     "data": {
      "text/plain": [
       "0"
      ]
     },
     "execution_count": 20,
     "metadata": {},
     "output_type": "execute_result"
    }
   ],
   "source": [
    "# Identify and remove duplicates\n",
    "duplicate_count = reactions_data.duplicated().sum()\n",
    "duplicate_count"
   ]
  },
  {
   "cell_type": "markdown",
   "id": "09cac79c-9406-4f98-8ce6-409825f0dfa3",
   "metadata": {},
   "source": [
    "*No Missing Values are found*"
   ]
  },
  {
   "cell_type": "markdown",
   "id": "1d51e140-86df-47b0-aaaa-4eb0a9da7c8b",
   "metadata": {},
   "source": [
    "### 3. ReactionTypes Data"
   ]
  },
  {
   "cell_type": "code",
   "execution_count": 21,
   "id": "863b894e-f4c7-498a-a5dd-a18b39835c09",
   "metadata": {},
   "outputs": [
    {
     "name": "stdout",
     "output_type": "stream",
     "text": [
      "Dataset loaded successfully!\n"
     ]
    }
   ],
   "source": [
    "# Define the file path to the dataset.\n",
    "reactiontypes_path = 'ReactionTypes(Cleaned).csv'  \n",
    "\n",
    "# Use Pandas to read the dataset into a DataFrame.\n",
    "try:\n",
    "    reactiontypes_data = pd.read_csv(reactiontypes_path)\n",
    "    print(\"Dataset loaded successfully!\")\n",
    "    \n",
    "except FileNotFoundError:\n",
    "    print(\"Error: Dataset file not found. Please check the file path.\")\n",
    "except Exception as e:\n",
    "    print(f\"An error occurred: {e}\")\n"
   ]
  },
  {
   "cell_type": "code",
   "execution_count": 28,
   "id": "d41b0847-77b9-4855-aadc-4f06a6fb1eb4",
   "metadata": {},
   "outputs": [
    {
     "data": {
      "text/html": [
       "<div>\n",
       "<style scoped>\n",
       "    .dataframe tbody tr th:only-of-type {\n",
       "        vertical-align: middle;\n",
       "    }\n",
       "\n",
       "    .dataframe tbody tr th {\n",
       "        vertical-align: top;\n",
       "    }\n",
       "\n",
       "    .dataframe thead th {\n",
       "        text-align: right;\n",
       "    }\n",
       "</style>\n",
       "<table border=\"1\" class=\"dataframe\">\n",
       "  <thead>\n",
       "    <tr style=\"text-align: right;\">\n",
       "      <th></th>\n",
       "      <th>Reaction Type</th>\n",
       "      <th>Sentiment</th>\n",
       "      <th>Score</th>\n",
       "    </tr>\n",
       "  </thead>\n",
       "  <tbody>\n",
       "    <tr>\n",
       "      <th>0</th>\n",
       "      <td>Heart</td>\n",
       "      <td>Positive</td>\n",
       "      <td>60</td>\n",
       "    </tr>\n",
       "    <tr>\n",
       "      <th>1</th>\n",
       "      <td>Want</td>\n",
       "      <td>Positive</td>\n",
       "      <td>70</td>\n",
       "    </tr>\n",
       "    <tr>\n",
       "      <th>2</th>\n",
       "      <td>Disgust</td>\n",
       "      <td>Negative</td>\n",
       "      <td>0</td>\n",
       "    </tr>\n",
       "    <tr>\n",
       "      <th>3</th>\n",
       "      <td>Hate</td>\n",
       "      <td>Negative</td>\n",
       "      <td>5</td>\n",
       "    </tr>\n",
       "    <tr>\n",
       "      <th>4</th>\n",
       "      <td>Interested</td>\n",
       "      <td>Positive</td>\n",
       "      <td>30</td>\n",
       "    </tr>\n",
       "  </tbody>\n",
       "</table>\n",
       "</div>"
      ],
      "text/plain": [
       "  Reaction Type Sentiment  Score\n",
       "0         Heart  Positive     60\n",
       "1          Want  Positive     70\n",
       "2       Disgust  Negative      0\n",
       "3          Hate  Negative      5\n",
       "4    Interested  Positive     30"
      ]
     },
     "execution_count": 28,
     "metadata": {},
     "output_type": "execute_result"
    }
   ],
   "source": [
    "reactiontypes_data.head()"
   ]
  },
  {
   "cell_type": "code",
   "execution_count": 29,
   "id": "e9a85924-b61f-4472-8d57-945f75f0cd9a",
   "metadata": {},
   "outputs": [
    {
     "data": {
      "text/plain": [
       "['Reaction Type', 'Sentiment', 'Score']"
      ]
     },
     "execution_count": 29,
     "metadata": {},
     "output_type": "execute_result"
    }
   ],
   "source": [
    "reactiontypes_data.columns.to_list()"
   ]
  },
  {
   "cell_type": "code",
   "execution_count": 30,
   "id": "40ae0919-d4a0-4028-ac1e-f4aaeb430fa7",
   "metadata": {},
   "outputs": [
    {
     "data": {
      "text/plain": [
       "(16, 3)"
      ]
     },
     "execution_count": 30,
     "metadata": {},
     "output_type": "execute_result"
    }
   ],
   "source": [
    "reactiontypes_data.shape"
   ]
  },
  {
   "cell_type": "code",
   "execution_count": 31,
   "id": "c58b84f1-dd76-4d3b-94aa-88d629906f36",
   "metadata": {},
   "outputs": [
    {
     "data": {
      "text/html": [
       "<div>\n",
       "<style scoped>\n",
       "    .dataframe tbody tr th:only-of-type {\n",
       "        vertical-align: middle;\n",
       "    }\n",
       "\n",
       "    .dataframe tbody tr th {\n",
       "        vertical-align: top;\n",
       "    }\n",
       "\n",
       "    .dataframe thead th {\n",
       "        text-align: right;\n",
       "    }\n",
       "</style>\n",
       "<table border=\"1\" class=\"dataframe\">\n",
       "  <thead>\n",
       "    <tr style=\"text-align: right;\">\n",
       "      <th></th>\n",
       "      <th>Reaction Type</th>\n",
       "      <th>Sentiment</th>\n",
       "      <th>Score</th>\n",
       "    </tr>\n",
       "  </thead>\n",
       "  <tbody>\n",
       "    <tr>\n",
       "      <th>0</th>\n",
       "      <td>Heart</td>\n",
       "      <td>Positive</td>\n",
       "      <td>60</td>\n",
       "    </tr>\n",
       "    <tr>\n",
       "      <th>1</th>\n",
       "      <td>Want</td>\n",
       "      <td>Positive</td>\n",
       "      <td>70</td>\n",
       "    </tr>\n",
       "    <tr>\n",
       "      <th>2</th>\n",
       "      <td>Disgust</td>\n",
       "      <td>Negative</td>\n",
       "      <td>0</td>\n",
       "    </tr>\n",
       "    <tr>\n",
       "      <th>3</th>\n",
       "      <td>Hate</td>\n",
       "      <td>Negative</td>\n",
       "      <td>5</td>\n",
       "    </tr>\n",
       "    <tr>\n",
       "      <th>4</th>\n",
       "      <td>Interested</td>\n",
       "      <td>Positive</td>\n",
       "      <td>30</td>\n",
       "    </tr>\n",
       "    <tr>\n",
       "      <th>5</th>\n",
       "      <td>Indifferent</td>\n",
       "      <td>Neutral</td>\n",
       "      <td>20</td>\n",
       "    </tr>\n",
       "    <tr>\n",
       "      <th>6</th>\n",
       "      <td>Love</td>\n",
       "      <td>Positive</td>\n",
       "      <td>65</td>\n",
       "    </tr>\n",
       "    <tr>\n",
       "      <th>7</th>\n",
       "      <td>Super Love</td>\n",
       "      <td>Positive</td>\n",
       "      <td>75</td>\n",
       "    </tr>\n",
       "    <tr>\n",
       "      <th>8</th>\n",
       "      <td>Cherish</td>\n",
       "      <td>Positive</td>\n",
       "      <td>70</td>\n",
       "    </tr>\n",
       "    <tr>\n",
       "      <th>9</th>\n",
       "      <td>Adore</td>\n",
       "      <td>Positive</td>\n",
       "      <td>72</td>\n",
       "    </tr>\n",
       "    <tr>\n",
       "      <th>10</th>\n",
       "      <td>Like</td>\n",
       "      <td>Positive</td>\n",
       "      <td>50</td>\n",
       "    </tr>\n",
       "    <tr>\n",
       "      <th>11</th>\n",
       "      <td>Dislike</td>\n",
       "      <td>Negative</td>\n",
       "      <td>10</td>\n",
       "    </tr>\n",
       "    <tr>\n",
       "      <th>12</th>\n",
       "      <td>Intrigued</td>\n",
       "      <td>Positive</td>\n",
       "      <td>45</td>\n",
       "    </tr>\n",
       "    <tr>\n",
       "      <th>13</th>\n",
       "      <td>Peeking</td>\n",
       "      <td>Neutral</td>\n",
       "      <td>35</td>\n",
       "    </tr>\n",
       "    <tr>\n",
       "      <th>14</th>\n",
       "      <td>Scared</td>\n",
       "      <td>Negative</td>\n",
       "      <td>15</td>\n",
       "    </tr>\n",
       "    <tr>\n",
       "      <th>15</th>\n",
       "      <td>Worried</td>\n",
       "      <td>Negative</td>\n",
       "      <td>12</td>\n",
       "    </tr>\n",
       "  </tbody>\n",
       "</table>\n",
       "</div>"
      ],
      "text/plain": [
       "   Reaction Type Sentiment  Score\n",
       "0          Heart  Positive     60\n",
       "1           Want  Positive     70\n",
       "2        Disgust  Negative      0\n",
       "3           Hate  Negative      5\n",
       "4     Interested  Positive     30\n",
       "5    Indifferent   Neutral     20\n",
       "6           Love  Positive     65\n",
       "7     Super Love  Positive     75\n",
       "8        Cherish  Positive     70\n",
       "9          Adore  Positive     72\n",
       "10          Like  Positive     50\n",
       "11       Dislike  Negative     10\n",
       "12     Intrigued  Positive     45\n",
       "13       Peeking   Neutral     35\n",
       "14        Scared  Negative     15\n",
       "15       Worried  Negative     12"
      ]
     },
     "execution_count": 31,
     "metadata": {},
     "output_type": "execute_result"
    }
   ],
   "source": [
    "reactiontypes_data"
   ]
  },
  {
   "cell_type": "markdown",
   "id": "c09b98a2-73a7-499d-af45-2765be663cd7",
   "metadata": {},
   "source": [
    "*No Missing Values are found*"
   ]
  },
  {
   "cell_type": "markdown",
   "id": "5ed1ee01-8e4a-4491-9574-460b54b47f13",
   "metadata": {},
   "source": [
    "## <div class='alert alert-info'>Data Modeling</div>"
   ]
  },
  {
   "cell_type": "markdown",
   "id": "53174910-a40f-457e-a716-6907a954d657",
   "metadata": {},
   "source": [
    "### Creating a final data set by merging three tables together"
   ]
  },
  {
   "cell_type": "code",
   "execution_count": 22,
   "id": "2fa258e4-596e-4b6f-8bcb-fddfc8858d32",
   "metadata": {},
   "outputs": [],
   "source": [
    "# Merge the DataFrames: reactions_data, content_data, and reactiontypes_data\n",
    "\n",
    "# Step 1: Inner merge between reactions_data and content_data based on 'Content Id'\n",
    "# This merges the reactions_data and content_data DataFrames using 'Content Id' as the common column\n",
    "merged_df1 = pd.merge(reactions_data, content_data, on='Content Id')\n",
    "\n",
    "# Step 2: Inner merge between merged_df1 and reactiontypes_data based on 'Reaction Type'\n",
    "# This merges the result of the first merge (merged_df1) with reactiontypes_data using 'Reaction Type' as the common column\n",
    "final_df = pd.merge(merged_df1, reactiontypes_data, on='Reaction Type')\n",
    "\n",
    "# The final result is stored in the 'final_df' DataFrame"
   ]
  },
  {
   "cell_type": "code",
   "execution_count": 23,
   "id": "94f4487e-fbfc-4a33-8247-b6eb756d8acf",
   "metadata": {},
   "outputs": [
    {
     "data": {
      "text/html": [
       "<div>\n",
       "<style scoped>\n",
       "    .dataframe tbody tr th:only-of-type {\n",
       "        vertical-align: middle;\n",
       "    }\n",
       "\n",
       "    .dataframe tbody tr th {\n",
       "        vertical-align: top;\n",
       "    }\n",
       "\n",
       "    .dataframe thead th {\n",
       "        text-align: right;\n",
       "    }\n",
       "</style>\n",
       "<table border=\"1\" class=\"dataframe\">\n",
       "  <thead>\n",
       "    <tr style=\"text-align: right;\">\n",
       "      <th></th>\n",
       "      <th>Content Id</th>\n",
       "      <th>Reaction Type</th>\n",
       "      <th>Date</th>\n",
       "      <th>Time</th>\n",
       "      <th>Content Type</th>\n",
       "      <th>Category</th>\n",
       "      <th>Sentiment</th>\n",
       "      <th>Score</th>\n",
       "    </tr>\n",
       "  </thead>\n",
       "  <tbody>\n",
       "    <tr>\n",
       "      <th>0</th>\n",
       "      <td>97522e57-d9ab-4bd6-97bf-c24d952602d2</td>\n",
       "      <td>Disgust</td>\n",
       "      <td>2020-11-07</td>\n",
       "      <td>09:43:00</td>\n",
       "      <td>Photo</td>\n",
       "      <td>Studying</td>\n",
       "      <td>Negative</td>\n",
       "      <td>0</td>\n",
       "    </tr>\n",
       "    <tr>\n",
       "      <th>1</th>\n",
       "      <td>97522e57-d9ab-4bd6-97bf-c24d952602d2</td>\n",
       "      <td>Disgust</td>\n",
       "      <td>2021-01-06</td>\n",
       "      <td>19:13:00</td>\n",
       "      <td>Photo</td>\n",
       "      <td>Studying</td>\n",
       "      <td>Negative</td>\n",
       "      <td>0</td>\n",
       "    </tr>\n",
       "    <tr>\n",
       "      <th>2</th>\n",
       "      <td>97522e57-d9ab-4bd6-97bf-c24d952602d2</td>\n",
       "      <td>Disgust</td>\n",
       "      <td>2021-04-09</td>\n",
       "      <td>02:46:00</td>\n",
       "      <td>Photo</td>\n",
       "      <td>Studying</td>\n",
       "      <td>Negative</td>\n",
       "      <td>0</td>\n",
       "    </tr>\n",
       "    <tr>\n",
       "      <th>3</th>\n",
       "      <td>9f737e0a-3cdd-4d29-9d24-753f4e3be810</td>\n",
       "      <td>Disgust</td>\n",
       "      <td>2021-03-28</td>\n",
       "      <td>21:15:00</td>\n",
       "      <td>Photo</td>\n",
       "      <td>Healthy Eating</td>\n",
       "      <td>Negative</td>\n",
       "      <td>0</td>\n",
       "    </tr>\n",
       "    <tr>\n",
       "      <th>4</th>\n",
       "      <td>230c4e4d-70c3-461d-b42c-ec09396efb3f</td>\n",
       "      <td>Disgust</td>\n",
       "      <td>2020-08-04</td>\n",
       "      <td>05:40:00</td>\n",
       "      <td>Photo</td>\n",
       "      <td>Healthy Eating</td>\n",
       "      <td>Negative</td>\n",
       "      <td>0</td>\n",
       "    </tr>\n",
       "  </tbody>\n",
       "</table>\n",
       "</div>"
      ],
      "text/plain": [
       "                             Content Id Reaction Type        Date      Time  \\\n",
       "0  97522e57-d9ab-4bd6-97bf-c24d952602d2       Disgust  2020-11-07  09:43:00   \n",
       "1  97522e57-d9ab-4bd6-97bf-c24d952602d2       Disgust  2021-01-06  19:13:00   \n",
       "2  97522e57-d9ab-4bd6-97bf-c24d952602d2       Disgust  2021-04-09  02:46:00   \n",
       "3  9f737e0a-3cdd-4d29-9d24-753f4e3be810       Disgust  2021-03-28  21:15:00   \n",
       "4  230c4e4d-70c3-461d-b42c-ec09396efb3f       Disgust  2020-08-04  05:40:00   \n",
       "\n",
       "  Content Type        Category Sentiment  Score  \n",
       "0        Photo        Studying  Negative      0  \n",
       "1        Photo        Studying  Negative      0  \n",
       "2        Photo        Studying  Negative      0  \n",
       "3        Photo  Healthy Eating  Negative      0  \n",
       "4        Photo  Healthy Eating  Negative      0  "
      ]
     },
     "execution_count": 23,
     "metadata": {},
     "output_type": "execute_result"
    }
   ],
   "source": [
    "final_df.head()"
   ]
  },
  {
   "cell_type": "code",
   "execution_count": 34,
   "id": "75f8c992-26b3-464f-ae08-8d0a0ce1ea3a",
   "metadata": {},
   "outputs": [
    {
     "data": {
      "text/plain": [
       "(24573, 8)"
      ]
     },
     "execution_count": 34,
     "metadata": {},
     "output_type": "execute_result"
    }
   ],
   "source": [
    "final_df.shape"
   ]
  },
  {
   "cell_type": "code",
   "execution_count": 35,
   "id": "99844f36-a4dd-422a-8f80-654a9c61584d",
   "metadata": {},
   "outputs": [
    {
     "name": "stdout",
     "output_type": "stream",
     "text": [
      "<class 'pandas.core.frame.DataFrame'>\n",
      "RangeIndex: 24573 entries, 0 to 24572\n",
      "Data columns (total 8 columns):\n",
      " #   Column         Non-Null Count  Dtype \n",
      "---  ------         --------------  ----- \n",
      " 0   Content Id     24573 non-null  object\n",
      " 1   Reaction Type  24573 non-null  object\n",
      " 2   Date           24573 non-null  object\n",
      " 3   Time           24573 non-null  object\n",
      " 4   Content Type   24573 non-null  object\n",
      " 5   Category       24573 non-null  object\n",
      " 6   Sentiment      24573 non-null  object\n",
      " 7   Score          24573 non-null  int64 \n",
      "dtypes: int64(1), object(7)\n",
      "memory usage: 1.5+ MB\n"
     ]
    }
   ],
   "source": [
    "final_df.info()"
   ]
  },
  {
   "cell_type": "code",
   "execution_count": 24,
   "id": "466c6597-9109-46f9-b486-f950bad6baee",
   "metadata": {},
   "outputs": [],
   "source": [
    "# Convert 'date_column' to datetime.date datatype\n",
    "final_df['Date'] = pd.to_datetime(final_df['Date'])\n",
    "\n",
    "# Convert 'time_column' to datetime.time datatype\n",
    "final_df['Time'] = pd.to_datetime(final_df['Time'], format='%H:%M:%S')"
   ]
  },
  {
   "cell_type": "code",
   "execution_count": 25,
   "id": "01778867-c170-42ce-9242-fac27ca8801c",
   "metadata": {},
   "outputs": [
    {
     "data": {
      "text/plain": [
       "Content Id               object\n",
       "Reaction Type            object\n",
       "Date             datetime64[ns]\n",
       "Time             datetime64[ns]\n",
       "Content Type             object\n",
       "Category                 object\n",
       "Sentiment                object\n",
       "Score                     int64\n",
       "dtype: object"
      ]
     },
     "execution_count": 25,
     "metadata": {},
     "output_type": "execute_result"
    }
   ],
   "source": [
    "final_df.dtypes"
   ]
  },
  {
   "cell_type": "code",
   "execution_count": 38,
   "id": "5fd6e6e5-efcd-421e-8edd-ba342cb69c16",
   "metadata": {},
   "outputs": [
    {
     "data": {
      "text/plain": [
       "['Content Id',\n",
       " 'Reaction Type',\n",
       " 'Date',\n",
       " 'Time',\n",
       " 'Content Type',\n",
       " 'Category',\n",
       " 'Sentiment',\n",
       " 'Score']"
      ]
     },
     "execution_count": 38,
     "metadata": {},
     "output_type": "execute_result"
    }
   ],
   "source": [
    "final_df.columns.to_list()"
   ]
  },
  {
   "cell_type": "code",
   "execution_count": 39,
   "id": "d9e73231-53c7-48f2-84dc-ad3944ad4a4d",
   "metadata": {},
   "outputs": [
    {
     "name": "stdout",
     "output_type": "stream",
     "text": [
      "CSV file saved to: D:\\Data Box\\Forage\\Acenture\\datasetmerged1.csv\n"
     ]
    }
   ],
   "source": [
    "# Specify the file path where you want to save the CSV file\n",
    "file_path = 'D:\\Data Box\\Forage\\Acenture\\datasetmerged1.csv'\n",
    "\n",
    "# Save the DataFrame to a CSV file\n",
    "final_df.to_csv(file_path, index=False)\n",
    "\n",
    "# Print a message indicating that the file has been saved\n",
    "print(f\"CSV file saved to: {file_path}\")\n"
   ]
  },
  {
   "cell_type": "markdown",
   "id": "9663e527-21e2-4ccb-9a20-3d1791d25cad",
   "metadata": {},
   "source": [
    "## <div class='alert alert-info'>Exploratory Data Analysis</div>"
   ]
  },
  {
   "cell_type": "markdown",
   "id": "afb9b438-271b-4277-95cc-3e65c1d229b6",
   "metadata": {},
   "source": [
    "## 1. Unique Catergories\n",
    "### Q. How many unique categories are there?"
   ]
  },
  {
   "cell_type": "code",
   "execution_count": 36,
   "id": "2ed54dd4-4310-4626-9d74-3544d31d2055",
   "metadata": {},
   "outputs": [
    {
     "data": {
      "text/html": [
       "<div>\n",
       "<style scoped>\n",
       "    .dataframe tbody tr th:only-of-type {\n",
       "        vertical-align: middle;\n",
       "    }\n",
       "\n",
       "    .dataframe tbody tr th {\n",
       "        vertical-align: top;\n",
       "    }\n",
       "\n",
       "    .dataframe thead th {\n",
       "        text-align: right;\n",
       "    }\n",
       "</style>\n",
       "<table border=\"1\" class=\"dataframe\">\n",
       "  <thead>\n",
       "    <tr style=\"text-align: right;\">\n",
       "      <th></th>\n",
       "      <th>Unique Categories</th>\n",
       "    </tr>\n",
       "  </thead>\n",
       "  <tbody>\n",
       "    <tr>\n",
       "      <th>0</th>\n",
       "      <td>Studying</td>\n",
       "    </tr>\n",
       "    <tr>\n",
       "      <th>1</th>\n",
       "      <td>Healthy Eating</td>\n",
       "    </tr>\n",
       "    <tr>\n",
       "      <th>2</th>\n",
       "      <td>Dogs</td>\n",
       "    </tr>\n",
       "    <tr>\n",
       "      <th>3</th>\n",
       "      <td>Public Speaking</td>\n",
       "    </tr>\n",
       "    <tr>\n",
       "      <th>4</th>\n",
       "      <td>Science</td>\n",
       "    </tr>\n",
       "    <tr>\n",
       "      <th>5</th>\n",
       "      <td>Tennis</td>\n",
       "    </tr>\n",
       "    <tr>\n",
       "      <th>6</th>\n",
       "      <td>Food</td>\n",
       "    </tr>\n",
       "    <tr>\n",
       "      <th>7</th>\n",
       "      <td>Fitness</td>\n",
       "    </tr>\n",
       "    <tr>\n",
       "      <th>8</th>\n",
       "      <td>Soccer</td>\n",
       "    </tr>\n",
       "    <tr>\n",
       "      <th>9</th>\n",
       "      <td>Education</td>\n",
       "    </tr>\n",
       "    <tr>\n",
       "      <th>10</th>\n",
       "      <td>Travel</td>\n",
       "    </tr>\n",
       "    <tr>\n",
       "      <th>11</th>\n",
       "      <td>Veganism</td>\n",
       "    </tr>\n",
       "    <tr>\n",
       "      <th>12</th>\n",
       "      <td>Cooking</td>\n",
       "    </tr>\n",
       "    <tr>\n",
       "      <th>13</th>\n",
       "      <td>Technology</td>\n",
       "    </tr>\n",
       "    <tr>\n",
       "      <th>14</th>\n",
       "      <td>Animals</td>\n",
       "    </tr>\n",
       "    <tr>\n",
       "      <th>15</th>\n",
       "      <td>Culture</td>\n",
       "    </tr>\n",
       "  </tbody>\n",
       "</table>\n",
       "</div>"
      ],
      "text/plain": [
       "   Unique Categories\n",
       "0           Studying\n",
       "1     Healthy Eating\n",
       "2               Dogs\n",
       "3    Public Speaking\n",
       "4            Science\n",
       "5             Tennis\n",
       "6               Food\n",
       "7            Fitness\n",
       "8             Soccer\n",
       "9          Education\n",
       "10            Travel\n",
       "11          Veganism\n",
       "12           Cooking\n",
       "13        Technology\n",
       "14           Animals\n",
       "15           Culture"
      ]
     },
     "execution_count": 36,
     "metadata": {},
     "output_type": "execute_result"
    }
   ],
   "source": [
    "# Extracting unique categories from the 'Category' column\n",
    "unique_categories = final_df['Category'].unique()\n",
    "\n",
    "# Creating a DataFrame with the unique categories\n",
    "unique_categories_df = pd.DataFrame({'Unique Categories': unique_categories})\n",
    "\n",
    "# Displaying the DataFrame\n",
    "unique_categories_df"
   ]
  },
  {
   "cell_type": "markdown",
   "id": "8eb8e09b-638f-4fd3-b6e4-e6b20209f5aa",
   "metadata": {},
   "source": [
    "## 3. Top Content Categories\n",
    "### Q. What are the five most prevalent content categories based on total scores?"
   ]
  },
  {
   "cell_type": "code",
   "execution_count": 27,
   "id": "cd68d614-3a0a-475f-a710-7da807852f85",
   "metadata": {},
   "outputs": [
    {
     "data": {
      "text/html": [
       "<div>\n",
       "<style scoped>\n",
       "    .dataframe tbody tr th:only-of-type {\n",
       "        vertical-align: middle;\n",
       "    }\n",
       "\n",
       "    .dataframe tbody tr th {\n",
       "        vertical-align: top;\n",
       "    }\n",
       "\n",
       "    .dataframe thead th {\n",
       "        text-align: right;\n",
       "    }\n",
       "</style>\n",
       "<table border=\"1\" class=\"dataframe\">\n",
       "  <thead>\n",
       "    <tr style=\"text-align: right;\">\n",
       "      <th></th>\n",
       "      <th>Category</th>\n",
       "      <th>Score</th>\n",
       "    </tr>\n",
       "  </thead>\n",
       "  <tbody>\n",
       "    <tr>\n",
       "      <th>0</th>\n",
       "      <td>Animals</td>\n",
       "      <td>74965</td>\n",
       "    </tr>\n",
       "    <tr>\n",
       "      <th>1</th>\n",
       "      <td>Cooking</td>\n",
       "      <td>64756</td>\n",
       "    </tr>\n",
       "    <tr>\n",
       "      <th>2</th>\n",
       "      <td>Culture</td>\n",
       "      <td>66579</td>\n",
       "    </tr>\n",
       "    <tr>\n",
       "      <th>3</th>\n",
       "      <td>Dogs</td>\n",
       "      <td>52511</td>\n",
       "    </tr>\n",
       "    <tr>\n",
       "      <th>4</th>\n",
       "      <td>Education</td>\n",
       "      <td>57436</td>\n",
       "    </tr>\n",
       "  </tbody>\n",
       "</table>\n",
       "</div>"
      ],
      "text/plain": [
       "    Category  Score\n",
       "0    Animals  74965\n",
       "1    Cooking  64756\n",
       "2    Culture  66579\n",
       "3       Dogs  52511\n",
       "4  Education  57436"
      ]
     },
     "execution_count": 27,
     "metadata": {},
     "output_type": "execute_result"
    }
   ],
   "source": [
    "# Group by 'Category' and sum the 'Score' for each category\n",
    "category_scores = final_df.groupby('Category')['Score'].sum().reset_index()\n",
    "catergory_scores = category_scores.sort_values(by='Score', ascending=False)\n",
    "# Display the top 5 categories\n",
    "Top_5 = category_scores.head(5)\n",
    "Top_5"
   ]
  },
  {
   "cell_type": "code",
   "execution_count": 33,
   "id": "21ea749e-a439-4d64-9889-68ada034679f",
   "metadata": {},
   "outputs": [
    {
     "data": {
      "image/png": "[encoded data removed]",
      "text/plain": [
       "<Figure size 1000x600 with 1 Axes>"
      ]
     },
     "metadata": {},
     "output_type": "display_data"
    }
   ],
   "source": [
    "# Create a bar plot using Seaborn\n",
    "sns.set(style=\"whitegrid\")\n",
    "plt.figure(figsize=(10, 6))\n",
    "\n",
    "# Bar plot\n",
    "sns.barplot(y='Category',\n",
    "            x='Score',\n",
    "            data = Top_5,\n",
    "            palette='viridis',\n",
    "            order= Top_5.sort_values(by= 'Score', ascending=False)['Category'])\n",
    "\n",
    "# Set labels and title\n",
    "plt.ylabel('Category')\n",
    "plt.xlabel('Total Score')\n",
    "plt.title('Top 5 Content Categories based on Total Score')\n",
    "\n",
    "# Show the plot\n",
    "plt.show()"
   ]
  },
  {
   "cell_type": "code",
   "execution_count": 32,
   "id": "348e4e6b-92d4-42ab-bc66-0e76317a22d7",
   "metadata": {},
   "outputs": [
    {
     "data": {
      "image/png": "[encoded data removed]",
      "text/plain": [
       "<Figure size 1000x800 with 1 Axes>"
      ]
     },
     "metadata": {},
     "output_type": "display_data"
    }
   ],
   "source": [
    "# Define explode values to highlight a specific category\n",
    "explode = (0.1, 0, 0, 0, 0)  # Explode the first category (index 0)\n",
    "\n",
    "# Define custom colors for the pie chart\n",
    "colors = sns.color_palette('viridis')\n",
    "\n",
    "# Plotting a pie chart\n",
    "plt.figure(figsize=(10, 8))\n",
    "plt.pie(Top_5['Score'], labels=Top_5['Category'], autopct='%1.1f%%', startangle=140, explode=explode, colors=colors, shadow=True, wedgeprops={'edgecolor': 'black'})\n",
    "plt.title('Percentage Distribution of Scores Across Top 5 Content Categories', fontsize=16, fontweight='bold', pad=20)\n",
    "plt.axis('equal')  # Equal aspect ratio ensures that pie is drawn as a circle.\n",
    "\n",
    "# Display the pie chart\n",
    "plt.show()"
   ]
  },
  {
   "cell_type": "markdown",
   "id": "192dca72-9163-477f-b8a1-2d7c38fa683d",
   "metadata": {},
   "source": [
    "Based on the provided result of the top 5 content categories and their corresponding total scores:\n",
    "\n",
    "- **Animals (Score: 74965)**:\n",
    "This category has the highest total score among the top 5, indicating a significant level of engagement or positive reception from the audience. Content related to animals appears to resonate well.\n",
    "\n",
    "- **Cooking (Score: 64756)**:\n",
    "The Cooking category follows closely, suggesting a substantial interest in culinary content. Viewers may find value in recipes, cooking tips, or food-related discussions within this category.\n",
    "\n",
    "- **Culture (Score: 66579)**:\n",
    "The Culture category has a strong total score, indicating that content related to cultural topics is well-received. This could encompass a broad range of subjects such as art, traditions, or societal discussions.\n",
    "\n",
    "- **Dogs (Score: 52511)**:\n",
    "The Dogs category, while slightly lower in total score compared to others in the top 5, still demonstrates a significant level of engagement. Content related to dogs, including pet care, training, or heartwarming stories, appears to be popular.\n",
    "\n",
    "- **Education (Score: 57436)**:\n",
    "The Education category rounds out the top 5, showcasing that content related to educational topics has garnered a notable total score. This may include informative articles, tutorials, or discussions on various subjects.\n",
    "\n",
    "In summary, the top 5 content categories cover a diverse range of topics, from animals and cooking to culture, dogs, and education. The high scores suggest a positive audience response and engagement across these thematic areas. Understanding these popular categories can inform content creation and strategy to cater to the interests of the audience."
   ]
  },
  {
   "cell_type": "markdown",
   "id": "66b90b6b-c030-4f1e-b491-97795605b6b5",
   "metadata": {},
   "source": [
    " ## 3. Reactions to Popular Category\n",
    " ### Q. How many reactions are there to the most popular category?"
   ]
  },
  {
   "cell_type": "code",
   "execution_count": 60,
   "id": "159de2ac-0f1f-43c7-a295-814cda1c56e3",
   "metadata": {},
   "outputs": [
    {
     "data": {
      "text/plain": [
       "Category\n",
       "Animals            1897\n",
       "Science            1796\n",
       "Healthy Eating     1717\n",
       "Food               1699\n",
       "Technology         1698\n",
       "Culture            1676\n",
       "Cooking            1664\n",
       "Travel             1647\n",
       "Soccer             1457\n",
       "Education          1433\n",
       "Fitness            1395\n",
       "Studying           1363\n",
       "Dogs               1338\n",
       "Tennis             1328\n",
       "Veganism           1248\n",
       "Public Speaking    1217\n",
       "Name: Reaction Type, dtype: int64"
      ]
     },
     "execution_count": 60,
     "metadata": {},
     "output_type": "execute_result"
    }
   ],
   "source": [
    "# Grouping the data by 'Category' and counting the reactions for each category\n",
    "category_reactions = final_df.groupby('Category')['Reaction Type'].count()\n",
    "# Sorting the values in descending order\n",
    "category_reactions_sorted = category_reactions.sort_values(ascending=False)\n",
    "category_reactions_sorted "
   ]
  },
  {
   "cell_type": "code",
   "execution_count": 59,
   "id": "502f78a8-e019-4580-a67b-8852f3955949",
   "metadata": {},
   "outputs": [
    {
     "data": {
      "image/png": "[encoded data removed]",
      "text/plain": [
       "<Figure size 1000x600 with 1 Axes>"
      ]
     },
     "metadata": {},
     "output_type": "display_data"
    }
   ],
   "source": [
    "# Creating a bar plot using Seaborn if visualization is needed\n",
    "plt.figure(figsize=(10, 6))\n",
    "\n",
    "sns.barplot(x=category_reactions_sorted.index, y=category_reactions_sorted.values, palette='viridis')\n",
    "\n",
    "plt.title('Reactions by Category')\n",
    "plt.xlabel('Category')\n",
    "plt.ylabel('Total Reactions')\n",
    "plt.xticks(rotation=45, ha='right')\n",
    "\n",
    "plt.show()"
   ]
  },
  {
   "cell_type": "markdown",
   "id": "d5141803-37ab-4e62-ab63-7dcc0634b752",
   "metadata": {},
   "source": [
    "\n",
    "The most popular content categories, based on the count of reactions, are 'Animals' with 1897 reactions, followed by 'Science', 'Healthy Eating', 'Food', 'Technology', and 'Culture'. These categories demonstrate high user engagement on the Social Buzz platform."
   ]
  },
  {
   "cell_type": "markdown",
   "id": "51a939c2-f20c-461a-8a20-c97cd10e21f5",
   "metadata": {},
   "source": [
    "## 4. Month with Highest Posts:\n",
    "### Q. Which month witnessed the highest number of post?"
   ]
  },
  {
   "cell_type": "code",
   "execution_count": 66,
   "id": "e51bf22a-df4f-4b8c-9bff-b31c71423dd7",
   "metadata": {},
   "outputs": [],
   "source": [
    "# Extract month and year from the 'Date' column\n",
    "final_df['Month'] = final_df['Date'].dt.month\n",
    "final_df['Year'] = final_df['Date'].dt.year"
   ]
  },
  {
   "cell_type": "code",
   "execution_count": 67,
   "id": "5a9bb42a-876e-4e79-b073-bf85f14f93cf",
   "metadata": {},
   "outputs": [
    {
     "data": {
      "text/html": [
       "<div>\n",
       "<style scoped>\n",
       "    .dataframe tbody tr th:only-of-type {\n",
       "        vertical-align: middle;\n",
       "    }\n",
       "\n",
       "    .dataframe tbody tr th {\n",
       "        vertical-align: top;\n",
       "    }\n",
       "\n",
       "    .dataframe thead th {\n",
       "        text-align: right;\n",
       "    }\n",
       "</style>\n",
       "<table border=\"1\" class=\"dataframe\">\n",
       "  <thead>\n",
       "    <tr style=\"text-align: right;\">\n",
       "      <th></th>\n",
       "      <th>Content Id</th>\n",
       "      <th>Reaction Type</th>\n",
       "      <th>Date</th>\n",
       "      <th>Time</th>\n",
       "      <th>Content Type</th>\n",
       "      <th>Category</th>\n",
       "      <th>Sentiment</th>\n",
       "      <th>Score</th>\n",
       "      <th>Month</th>\n",
       "      <th>Year</th>\n",
       "    </tr>\n",
       "  </thead>\n",
       "  <tbody>\n",
       "    <tr>\n",
       "      <th>0</th>\n",
       "      <td>97522e57-d9ab-4bd6-97bf-c24d952602d2</td>\n",
       "      <td>Disgust</td>\n",
       "      <td>2020-11-07</td>\n",
       "      <td>1900-01-01 09:43:00</td>\n",
       "      <td>Photo</td>\n",
       "      <td>Studying</td>\n",
       "      <td>Negative</td>\n",
       "      <td>0</td>\n",
       "      <td>11</td>\n",
       "      <td>2020</td>\n",
       "    </tr>\n",
       "    <tr>\n",
       "      <th>1</th>\n",
       "      <td>97522e57-d9ab-4bd6-97bf-c24d952602d2</td>\n",
       "      <td>Disgust</td>\n",
       "      <td>2021-01-06</td>\n",
       "      <td>1900-01-01 19:13:00</td>\n",
       "      <td>Photo</td>\n",
       "      <td>Studying</td>\n",
       "      <td>Negative</td>\n",
       "      <td>0</td>\n",
       "      <td>1</td>\n",
       "      <td>2021</td>\n",
       "    </tr>\n",
       "    <tr>\n",
       "      <th>2</th>\n",
       "      <td>97522e57-d9ab-4bd6-97bf-c24d952602d2</td>\n",
       "      <td>Disgust</td>\n",
       "      <td>2021-04-09</td>\n",
       "      <td>1900-01-01 02:46:00</td>\n",
       "      <td>Photo</td>\n",
       "      <td>Studying</td>\n",
       "      <td>Negative</td>\n",
       "      <td>0</td>\n",
       "      <td>4</td>\n",
       "      <td>2021</td>\n",
       "    </tr>\n",
       "    <tr>\n",
       "      <th>3</th>\n",
       "      <td>9f737e0a-3cdd-4d29-9d24-753f4e3be810</td>\n",
       "      <td>Disgust</td>\n",
       "      <td>2021-03-28</td>\n",
       "      <td>1900-01-01 21:15:00</td>\n",
       "      <td>Photo</td>\n",
       "      <td>Healthy Eating</td>\n",
       "      <td>Negative</td>\n",
       "      <td>0</td>\n",
       "      <td>3</td>\n",
       "      <td>2021</td>\n",
       "    </tr>\n",
       "    <tr>\n",
       "      <th>4</th>\n",
       "      <td>230c4e4d-70c3-461d-b42c-ec09396efb3f</td>\n",
       "      <td>Disgust</td>\n",
       "      <td>2020-08-04</td>\n",
       "      <td>1900-01-01 05:40:00</td>\n",
       "      <td>Photo</td>\n",
       "      <td>Healthy Eating</td>\n",
       "      <td>Negative</td>\n",
       "      <td>0</td>\n",
       "      <td>8</td>\n",
       "      <td>2020</td>\n",
       "    </tr>\n",
       "  </tbody>\n",
       "</table>\n",
       "</div>"
      ],
      "text/plain": [
       "                             Content Id Reaction Type       Date  \\\n",
       "0  97522e57-d9ab-4bd6-97bf-c24d952602d2       Disgust 2020-11-07   \n",
       "1  97522e57-d9ab-4bd6-97bf-c24d952602d2       Disgust 2021-01-06   \n",
       "2  97522e57-d9ab-4bd6-97bf-c24d952602d2       Disgust 2021-04-09   \n",
       "3  9f737e0a-3cdd-4d29-9d24-753f4e3be810       Disgust 2021-03-28   \n",
       "4  230c4e4d-70c3-461d-b42c-ec09396efb3f       Disgust 2020-08-04   \n",
       "\n",
       "                 Time Content Type        Category Sentiment  Score  Month  \\\n",
       "0 1900-01-01 09:43:00        Photo        Studying  Negative      0     11   \n",
       "1 1900-01-01 19:13:00        Photo        Studying  Negative      0      1   \n",
       "2 1900-01-01 02:46:00        Photo        Studying  Negative      0      4   \n",
       "3 1900-01-01 21:15:00        Photo  Healthy Eating  Negative      0      3   \n",
       "4 1900-01-01 05:40:00        Photo  Healthy Eating  Negative      0      8   \n",
       "\n",
       "   Year  \n",
       "0  2020  \n",
       "1  2021  \n",
       "2  2021  \n",
       "3  2021  \n",
       "4  2020  "
      ]
     },
     "execution_count": 67,
     "metadata": {},
     "output_type": "execute_result"
    }
   ],
   "source": [
    "final_df.head()"
   ]
  },
  {
   "cell_type": "code",
   "execution_count": 72,
   "id": "93c8826a-fc94-49e9-be25-b7bbba34eceb",
   "metadata": {},
   "outputs": [
    {
     "data": {
      "text/html": [
       "<div>\n",
       "<style scoped>\n",
       "    .dataframe tbody tr th:only-of-type {\n",
       "        vertical-align: middle;\n",
       "    }\n",
       "\n",
       "    .dataframe tbody tr th {\n",
       "        vertical-align: top;\n",
       "    }\n",
       "\n",
       "    .dataframe thead th {\n",
       "        text-align: right;\n",
       "    }\n",
       "</style>\n",
       "<table border=\"1\" class=\"dataframe\">\n",
       "  <thead>\n",
       "    <tr style=\"text-align: right;\">\n",
       "      <th></th>\n",
       "      <th>Year</th>\n",
       "      <th>Month</th>\n",
       "      <th>Post Count</th>\n",
       "    </tr>\n",
       "  </thead>\n",
       "  <tbody>\n",
       "    <tr>\n",
       "      <th>0</th>\n",
       "      <td>2020</td>\n",
       "      <td>6</td>\n",
       "      <td>892</td>\n",
       "    </tr>\n",
       "    <tr>\n",
       "      <th>1</th>\n",
       "      <td>2020</td>\n",
       "      <td>7</td>\n",
       "      <td>2070</td>\n",
       "    </tr>\n",
       "    <tr>\n",
       "      <th>2</th>\n",
       "      <td>2020</td>\n",
       "      <td>8</td>\n",
       "      <td>2114</td>\n",
       "    </tr>\n",
       "    <tr>\n",
       "      <th>3</th>\n",
       "      <td>2020</td>\n",
       "      <td>9</td>\n",
       "      <td>2022</td>\n",
       "    </tr>\n",
       "    <tr>\n",
       "      <th>4</th>\n",
       "      <td>2020</td>\n",
       "      <td>10</td>\n",
       "      <td>2056</td>\n",
       "    </tr>\n",
       "    <tr>\n",
       "      <th>5</th>\n",
       "      <td>2020</td>\n",
       "      <td>11</td>\n",
       "      <td>2034</td>\n",
       "    </tr>\n",
       "    <tr>\n",
       "      <th>6</th>\n",
       "      <td>2020</td>\n",
       "      <td>12</td>\n",
       "      <td>2092</td>\n",
       "    </tr>\n",
       "    <tr>\n",
       "      <th>7</th>\n",
       "      <td>2021</td>\n",
       "      <td>1</td>\n",
       "      <td>2126</td>\n",
       "    </tr>\n",
       "    <tr>\n",
       "      <th>8</th>\n",
       "      <td>2021</td>\n",
       "      <td>2</td>\n",
       "      <td>1914</td>\n",
       "    </tr>\n",
       "    <tr>\n",
       "      <th>9</th>\n",
       "      <td>2021</td>\n",
       "      <td>3</td>\n",
       "      <td>2012</td>\n",
       "    </tr>\n",
       "    <tr>\n",
       "      <th>10</th>\n",
       "      <td>2021</td>\n",
       "      <td>4</td>\n",
       "      <td>1974</td>\n",
       "    </tr>\n",
       "    <tr>\n",
       "      <th>11</th>\n",
       "      <td>2021</td>\n",
       "      <td>5</td>\n",
       "      <td>2138</td>\n",
       "    </tr>\n",
       "    <tr>\n",
       "      <th>12</th>\n",
       "      <td>2021</td>\n",
       "      <td>6</td>\n",
       "      <td>1129</td>\n",
       "    </tr>\n",
       "  </tbody>\n",
       "</table>\n",
       "</div>"
      ],
      "text/plain": [
       "    Year  Month  Post Count\n",
       "0   2020      6         892\n",
       "1   2020      7        2070\n",
       "2   2020      8        2114\n",
       "3   2020      9        2022\n",
       "4   2020     10        2056\n",
       "5   2020     11        2034\n",
       "6   2020     12        2092\n",
       "7   2021      1        2126\n",
       "8   2021      2        1914\n",
       "9   2021      3        2012\n",
       "10  2021      4        1974\n",
       "11  2021      5        2138\n",
       "12  2021      6        1129"
      ]
     },
     "execution_count": 72,
     "metadata": {},
     "output_type": "execute_result"
    }
   ],
   "source": [
    "# Grouping the data by month and counting the number of posts\n",
    "monthly_posts = final_df.groupby(['Year', 'Month']).size().reset_index(name='Post Count')\n",
    "monthly_posts.sort_values(by='Year', ascending= True)"
   ]
  },
  {
   "cell_type": "code",
   "execution_count": 73,
   "id": "49e97e4d-eb85-4c9d-b3f0-e1a403e595d3",
   "metadata": {},
   "outputs": [
    {
     "name": "stdout",
     "output_type": "stream",
     "text": [
      "The month with the highest number of posts is 5/2021 with 2138 posts.\n"
     ]
    }
   ],
   "source": [
    "# Finding the month with the highest number of posts\n",
    "max_month = monthly_posts.loc[monthly_posts['Post Count'].idxmax()]\n",
    "\n",
    "# Printing the result\n",
    "print(f\"The month with the highest number of posts is {max_month['Month']}/{max_month['Year']} with {max_month['Post Count']} posts.\")"
   ]
  },
  {
   "cell_type": "code",
   "execution_count": 79,
   "id": "ce56ac24-3302-4474-99b0-3c654659e718",
   "metadata": {},
   "outputs": [
    {
     "data": {
      "image/png": "[encoded data removed]",
      "text/plain": [
       "<Figure size 1200x600 with 1 Axes>"
      ]
     },
     "metadata": {},
     "output_type": "display_data"
    }
   ],
   "source": [
    "# Creating a line plot using Seaborn \n",
    "plt.figure(figsize=(12, 6))\n",
    "\n",
    "sns.lineplot(x='Month', y='Post Count', hue='Year', data=monthly_posts, palette='viridis', marker='o', sort=False)\n",
    "\n",
    "plt.title('Monthly Posts Over the Years')\n",
    "plt.xlabel('Month')\n",
    "plt.ylabel('Number of Posts')\n",
    "\n",
    "plt.legend(title='Year')\n",
    "plt.xticks(range(1, 13))  # Ensure all months are displayed on the x-axis\n",
    "\n",
    "plt.show()"
   ]
  },
  {
   "cell_type": "markdown",
   "id": "8d4f076c-774d-49ec-8f36-44060c06a698",
   "metadata": {},
   "source": [
    "The month with the highest number of posts is May 2021 with 2138 posts."
   ]
  },
  {
   "cell_type": "markdown",
   "id": "31998886-7003-425b-ab5f-9ec7cf627309",
   "metadata": {},
   "source": [
    "## Author\n",
    "**[Mostafizur Rahman](https://www.linkedin.com/in/mostafizrahman10/)**"
   ]
  },
  {
   "cell_type": "markdown",
   "id": "1b58b809-a3fc-4fc0-9d9d-e6fd80cea9d6",
   "metadata": {},
   "source": [
    "## <h3 align=\"center\"> © 2024 Mostafizur Rahamn. All rights reserved. <h3/>"
   ]
  }
 ],
 "metadata": {
  "kernelspec": {
   "display_name": "Python 3 (ipykernel)",
   "language": "python",
   "name": "python3"
  },
  "language_info": {
   "codemirror_mode": {
    "name": "ipython",
    "version": 3
   },
   "file_extension": ".py",
   "mimetype": "text/x-python",
   "name": "python",
   "nbconvert_exporter": "python",
   "pygments_lexer": "ipython3",
   "version": "3.11.0"
  },
  "widgets": {
   "application/vnd.jupyter.widget-state+json": {
    "state": {},
    "version_major": 2,
    "version_minor": 0
   }
  }
 },
 "nbformat": 4,
 "nbformat_minor": 5
}
